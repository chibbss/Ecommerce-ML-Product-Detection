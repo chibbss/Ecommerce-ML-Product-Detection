{
 "cells": [
  {
   "cell_type": "code",
   "execution_count": 1,
   "id": "7b038807-9dfe-4a19-842a-e88af2da43e2",
   "metadata": {},
   "outputs": [],
   "source": [
    "# necessary imports\n",
    "import pandas as pd"
   ]
  },
  {
   "cell_type": "code",
   "execution_count": 2,
   "id": "264a5d20-1651-4fd6-b1ba-f4b875210f20",
   "metadata": {},
   "outputs": [
    {
     "name": "stdout",
     "output_type": "stream",
     "text": [
      "Initial Dataset Info:\n",
      "<class 'pandas.core.frame.DataFrame'>\n",
      "RangeIndex: 541909 entries, 0 to 541908\n",
      "Data columns (total 8 columns):\n",
      " #   Column       Non-Null Count   Dtype \n",
      "---  ------       --------------   ----- \n",
      " 0   InvoiceNo    541909 non-null  object\n",
      " 1   StockCode    541909 non-null  object\n",
      " 2   Description  540884 non-null  object\n",
      " 3   Quantity     541909 non-null  object\n",
      " 4   InvoiceDate  541909 non-null  object\n",
      " 5   UnitPrice    541909 non-null  object\n",
      " 6   CustomerID   433909 non-null  object\n",
      " 7   Country      541909 non-null  object\n",
      "dtypes: object(8)\n",
      "memory usage: 33.1+ MB\n",
      "None\n"
     ]
    }
   ],
   "source": [
    "# load dataset\n",
    "file_path = 'dataset.csv'\n",
    "dataset = pd.read_csv(file_path)\n",
    "\n",
    "# Display basic information about the dataset\n",
    "print(\"Initial Dataset Info:\")\n",
    "print(dataset.info())\n",
    "\n"
   ]
  },
  {
   "cell_type": "code",
   "execution_count": 3,
   "id": "6e3ee5fc-3e7b-4b55-9343-b6507d5d059f",
   "metadata": {},
   "outputs": [
    {
     "name": "stdout",
     "output_type": "stream",
     "text": [
      "Column Names:\n",
      "['InvoiceNo', 'StockCode', 'Description', 'Quantity', 'InvoiceDate', 'UnitPrice', 'CustomerID', 'Country']\n"
     ]
    }
   ],
   "source": [
    "# Print column names\n",
    "print(\"Column Names:\")\n",
    "print(dataset.columns.tolist())"
   ]
  },
  {
   "cell_type": "code",
   "execution_count": 9,
   "id": "09d5949b-49f2-4bd7-8d37-a9c6ff2bea61",
   "metadata": {},
   "outputs": [
    {
     "name": "stdout",
     "output_type": "stream",
     "text": [
      "Number of duplicate rows: 0\n"
     ]
    }
   ],
   "source": [
    "# Check for duplicate rows\n",
    "duplicates = dataset.duplicated()\n",
    "dataset = dataset.drop_duplicates()\n",
    "print(f\"Number of duplicate rows: {duplicates.sum()}\")\n"
   ]
  },
  {
   "cell_type": "code",
   "execution_count": 10,
   "id": "32762e10-8801-46ac-8fbd-be01e0d6aa53",
   "metadata": {},
   "outputs": [
    {
     "name": "stdout",
     "output_type": "stream",
     "text": [
      "Missing Values:\n",
      "InvoiceNo           0\n",
      "StockCode           0\n",
      "Description      1025\n",
      "Quantity            0\n",
      "InvoiceDate         0\n",
      "UnitPrice           0\n",
      "CustomerID     108000\n",
      "Country             0\n",
      "dtype: int64\n"
     ]
    }
   ],
   "source": [
    "# Check for missing values\n",
    "missing_values = dataset.isnull().sum()\n",
    "print(\"Missing Values:\")\n",
    "print(missing_values)"
   ]
  },
  {
   "cell_type": "code",
   "execution_count": 11,
   "id": "cc63adda-8ec4-4e38-8ab1-1f28c98c4106",
   "metadata": {},
   "outputs": [
    {
     "name": "stdout",
     "output_type": "stream",
     "text": [
      "Missing Values After Handling:\n",
      "InvoiceNo      0\n",
      "StockCode      0\n",
      "Description    0\n",
      "Quantity       0\n",
      "InvoiceDate    0\n",
      "UnitPrice      0\n",
      "CustomerID     0\n",
      "Country        0\n",
      "dtype: int64\n"
     ]
    }
   ],
   "source": [
    "# Handle missing values\n",
    "dataset.fillna(value='placeholder_value', inplace=True)\n",
    "\n",
    "# Check again to confirm missing values are handled\n",
    "missing_values_after = dataset.isnull().sum()\n",
    "print(\"Missing Values After Handling:\")\n",
    "print(missing_values_after)\n"
   ]
  },
  {
   "cell_type": "code",
   "execution_count": 12,
   "id": "a0136ca8-d16a-403c-bd5f-e29f1869aba5",
   "metadata": {},
   "outputs": [
    {
     "name": "stdout",
     "output_type": "stream",
     "text": [
      "Data Types Before Standardization:\n",
      "InvoiceNo      object\n",
      "StockCode      object\n",
      "Description    object\n",
      "Quantity       object\n",
      "InvoiceDate    object\n",
      "UnitPrice      object\n",
      "CustomerID     object\n",
      "Country        object\n",
      "dtype: object\n"
     ]
    }
   ],
   "source": [
    "# Check data types before standardization\n",
    "print(\"Data Types Before Standardization:\")\n",
    "print(dataset.dtypes)"
   ]
  },
  {
   "cell_type": "code",
   "execution_count": 14,
   "id": "5e3b6b12-397f-497e-b00f-fe6b622df8f9",
   "metadata": {},
   "outputs": [
    {
     "name": "stdout",
     "output_type": "stream",
     "text": [
      "Data Types After Standardization:\n",
      "InvoiceNo              object\n",
      "StockCode              object\n",
      "Description            object\n",
      "Quantity              float64\n",
      "InvoiceDate    datetime64[ns]\n",
      "UnitPrice             float64\n",
      "CustomerID            float64\n",
      "Country                object\n",
      "dtype: object\n"
     ]
    }
   ],
   "source": [
    "# Standardize formats\n",
    "# Convert 'Quantity' and 'UnitPrice' to numeric types\n",
    "dataset['Quantity'] = pd.to_numeric(dataset['Quantity'], errors='coerce')\n",
    "dataset['UnitPrice'] = pd.to_numeric(dataset['UnitPrice'], errors='coerce')\n",
    "\n",
    "# Convert 'CustomerID' to numeric type\n",
    "dataset['CustomerID'] = pd.to_numeric(dataset['CustomerID'], errors='coerce')\n",
    "\n",
    "# Convert 'InvoiceDate' to datetime type\n",
    "dataset['InvoiceDate'] = pd.to_datetime(dataset['InvoiceDate'], errors='coerce')\n",
    "\n",
    "# Check data types after standardization\n",
    "print(\"Data Types After Standardization:\")\n",
    "print(dataset.dtypes)"
   ]
  },
  {
   "cell_type": "code",
   "execution_count": 15,
   "id": "2669c8f6-121c-47df-bd87-9506a65e9a0b",
   "metadata": {},
   "outputs": [
    {
     "name": "stdout",
     "output_type": "stream",
     "text": [
      "Dataset cleaning and standardization complete. Cleaned dataset saved to cleaned_dataset.csv\n"
     ]
    }
   ],
   "source": [
    "# Save the cleaned dataset to a new file\n",
    "cleaned_file_path = 'cleaned_dataset.csv'\n",
    "dataset.to_csv(cleaned_file_path, index=False)\n",
    "\n",
    "print(\"Dataset cleaning and standardization complete. Cleaned dataset saved to\", cleaned_file_path)"
   ]
  },
  {
   "cell_type": "code",
   "execution_count": null,
   "id": "f3d7bfd9-3206-4d3d-9cf3-11db357e2bf1",
   "metadata": {},
   "outputs": [],
   "source": []
  }
 ],
 "metadata": {
  "kernelspec": {
   "display_name": "Python 3 (ipykernel)",
   "language": "python",
   "name": "python3"
  },
  "language_info": {
   "codemirror_mode": {
    "name": "ipython",
    "version": 3
   },
   "file_extension": ".py",
   "mimetype": "text/x-python",
   "name": "python",
   "nbconvert_exporter": "python",
   "pygments_lexer": "ipython3",
   "version": "3.12.0"
  }
 },
 "nbformat": 4,
 "nbformat_minor": 5
}

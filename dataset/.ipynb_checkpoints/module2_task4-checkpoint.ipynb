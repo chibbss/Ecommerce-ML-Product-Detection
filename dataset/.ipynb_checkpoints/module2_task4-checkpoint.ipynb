{
 "cells": [
  {
   "cell_type": "code",
   "execution_count": 1,
   "id": "f68177b6-e20c-4bc3-b5b0-d60d9f7435a5",
   "metadata": {},
   "outputs": [
    {
     "name": "stdout",
     "output_type": "stream",
     "text": [
      "Collecting pytesseract\n",
      "  Downloading pytesseract-0.3.10-py3-none-any.whl.metadata (11 kB)\n",
      "Requirement already satisfied: packaging>=21.3 in /Library/Frameworks/Python.framework/Versions/3.12/lib/python3.12/site-packages (from pytesseract) (24.0)\n",
      "Requirement already satisfied: Pillow>=8.0.0 in /Library/Frameworks/Python.framework/Versions/3.12/lib/python3.12/site-packages (from pytesseract) (10.3.0)\n",
      "Downloading pytesseract-0.3.10-py3-none-any.whl (14 kB)\n",
      "Installing collected packages: pytesseract\n",
      "Successfully installed pytesseract-0.3.10\n",
      "\n",
      "\u001b[1m[\u001b[0m\u001b[34;49mnotice\u001b[0m\u001b[1;39;49m]\u001b[0m\u001b[39;49m A new release of pip is available: \u001b[0m\u001b[31;49m24.0\u001b[0m\u001b[39;49m -> \u001b[0m\u001b[32;49m24.1.1\u001b[0m\n",
      "\u001b[1m[\u001b[0m\u001b[34;49mnotice\u001b[0m\u001b[1;39;49m]\u001b[0m\u001b[39;49m To update, run: \u001b[0m\u001b[32;49mpip install --upgrade pip\u001b[0m\n",
      "Note: you may need to restart the kernel to use updated packages.\n"
     ]
    }
   ],
   "source": [
    "pip install pytesseract"
   ]
  },
  {
   "cell_type": "code",
   "execution_count": 6,
   "id": "508c1282-5cb1-42f4-98d7-a8159223baee",
   "metadata": {},
   "outputs": [
    {
     "name": "stdout",
     "output_type": "stream",
     "text": [
      "Collecting tesseract\n",
      "  Downloading tesseract-0.1.3.tar.gz (45.6 MB)\n",
      "\u001b[2K     \u001b[38;2;114;156;31m━━━━━━━━━━━━━━━━━━━━━━━━━━━━━━━━━━━━━━━━\u001b[0m \u001b[32m45.6/45.6 MB\u001b[0m \u001b[31m1.3 MB/s\u001b[0m eta \u001b[36m0:00:00\u001b[0mm eta \u001b[36m0:00:01\u001b[0m[36m0:00:01\u001b[0mm\n",
      "\u001b[?25h  Preparing metadata (setup.py) ... \u001b[?25ldone\n",
      "\u001b[?25hBuilding wheels for collected packages: tesseract\n",
      "  Building wheel for tesseract (setup.py) ... \u001b[?25ldone\n",
      "\u001b[?25h  Created wheel for tesseract: filename=tesseract-0.1.3-py3-none-any.whl size=45562552 sha256=e1dec9e9c8f3cfaf1c7ff2c3baf86e4c0aa5c6ca172ea9b8892b81a86e1b995f\n",
      "  Stored in directory: /Users/emmanuelochiba/Library/Caches/pip/wheels/13/1f/8e/2d6c0e358fd6d01ca80ecd9185a374bcda35879f4fec727242\n",
      "Successfully built tesseract\n",
      "Installing collected packages: tesseract\n",
      "Successfully installed tesseract-0.1.3\n",
      "\n",
      "\u001b[1m[\u001b[0m\u001b[34;49mnotice\u001b[0m\u001b[1;39;49m]\u001b[0m\u001b[39;49m A new release of pip is available: \u001b[0m\u001b[31;49m24.0\u001b[0m\u001b[39;49m -> \u001b[0m\u001b[32;49m24.1.1\u001b[0m\n",
      "\u001b[1m[\u001b[0m\u001b[34;49mnotice\u001b[0m\u001b[1;39;49m]\u001b[0m\u001b[39;49m To update, run: \u001b[0m\u001b[32;49mpip install --upgrade pip\u001b[0m\n",
      "Note: you may need to restart the kernel to use updated packages.\n"
     ]
    }
   ],
   "source": [
    "pip install tesseract"
   ]
  },
  {
   "cell_type": "code",
   "execution_count": 8,
   "id": "ced561b8-5da1-4c0d-a042-61eefd9e12ca",
   "metadata": {},
   "outputs": [],
   "source": [
    "# Import necessary libraries\n",
    "import pytesseract\n",
    "from PIL import Image"
   ]
  },
  {
   "cell_type": "code",
   "execution_count": 16,
   "id": "96071aba-af95-4263-9b31-6fe000a41929",
   "metadata": {},
   "outputs": [],
   "source": [
    "# Load the example image\n",
    "image_path = 'images.jpeg'  # Replace with your image path\n",
    "image = Image.open(image_path)\n",
    "\n",
    "# Preprocess the image (optional, depending on image quality and content)\n",
    "# Example: Convert to grayscale\n",
    "gray_image = image.convert('L')\n",
    "\n",
    "# Display the original and preprocessed images\n",
    "image.show()\n",
    "gray_image.show()\n"
   ]
  },
  {
   "cell_type": "code",
   "execution_count": 17,
   "id": "41a52537-f685-4207-b64b-156de0eb54de",
   "metadata": {},
   "outputs": [
    {
     "name": "stdout",
     "output_type": "stream",
     "text": [
      "Extracted Text:\n",
      "_ Sampling Error\n",
      "A statistical err that\n",
      "‘occurs when the analyst\n",
      "MWe selects a sample that not\n",
      "ey) JA representative of the\n",
      "NWA population being studied\n",
      "\n",
      "Binal\n",
      "\n"
     ]
    }
   ],
   "source": [
    "# Perform OCR on the preprocessed image\n",
    "extracted_text = pytesseract.image_to_string(gray_image)\n",
    "\n",
    "# Print the extracted text\n",
    "print(\"Extracted Text:\")\n",
    "print(extracted_text)\n"
   ]
  },
  {
   "cell_type": "code",
   "execution_count": 18,
   "id": "c4ed8bf5-e726-4dcb-afbc-fa7513370652",
   "metadata": {},
   "outputs": [
    {
     "name": "stdout",
     "output_type": "stream",
     "text": [
      "Extracted Text:\n",
      "_ Sampling Error\n",
      "A statistical err that\n",
      "‘occurs when the analyst\n",
      "MWe selects a sample that not\n",
      "ey) JA representative of the\n",
      "NWA population being studied\n",
      "\n",
      "Binal\n",
      "\n"
     ]
    }
   ],
   "source": [
    "# Perform OCR with error handling\n",
    "try:\n",
    "    extracted_text = pytesseract.image_to_string(gray_image)\n",
    "    if extracted_text.strip() == \"\":\n",
    "        raise Exception(\"OCR did not extract any meaningful text.\")\n",
    "    else:\n",
    "        print(\"Extracted Text:\")\n",
    "        print(extracted_text)\n",
    "except Exception as e:\n",
    "    print(f\"OCR Error: {str(e)}\")\n"
   ]
  },
  {
   "cell_type": "code",
   "execution_count": 19,
   "id": "a26d1f6c-f772-4a74-89ee-ac20f984f79a",
   "metadata": {},
   "outputs": [
    {
     "name": "stdout",
     "output_type": "stream",
     "text": [
      "Extracted Text:\n",
      "_ Sampling Error\n",
      "A statistical err that\n",
      "‘occurs when the analyst\n",
      "MWe selects a sample that not\n",
      "ey) JA representative of the\n",
      "NWA population being studied\n",
      "\n",
      "Binal\n",
      "\n",
      "Extracted Keywords:\n",
      "{'error': 1, 'statistical': 1, 'sample': 1, 'analyst': 1, 'population': 1}\n"
     ]
    }
   ],
   "source": [
    "# Extract Structured Data from Text\n",
    "import re\n",
    "\n",
    "# Example patterns to extract keywords\n",
    "keywords = [\"error\", \"statistical\", \"sample\", \"analyst\", \"population\"]\n",
    "\n",
    "# Perform OCR with error handling\n",
    "try:\n",
    "    extracted_text = pytesseract.image_to_string(gray_image)\n",
    "    if extracted_text.strip() == \"\":\n",
    "        raise Exception(\"OCR did not extract any meaningful text.\")\n",
    "    else:\n",
    "        print(\"Extracted Text:\")\n",
    "        print(extracted_text)\n",
    "        \n",
    "        # Extract keywords\n",
    "        extracted_keywords = {keyword: extracted_text.lower().count(keyword) for keyword in keywords}\n",
    "        print(\"Extracted Keywords:\")\n",
    "        print(extracted_keywords)\n",
    "\n",
    "except Exception as e:\n",
    "    print(f\"OCR Error: {str(e)}\")\n"
   ]
  },
  {
   "cell_type": "code",
   "execution_count": 20,
   "id": "0aff05a6-d336-4ef9-adf7-66df034b33e7",
   "metadata": {},
   "outputs": [
    {
     "name": "stdout",
     "output_type": "stream",
     "text": [
      "Extracted Text:\n",
      "_ Sampling Error\n",
      "A statistical err that\n",
      "‘occurs when the analyst\n",
      "MWe selects a sample that not\n",
      "ey) JA representative of the\n",
      "NWA population being studied\n",
      "\n",
      "Binal\n",
      "\n",
      "Extracted Keywords:\n",
      "{'error': 1, 'statistical': 1, 'sample': 1, 'analyst': 1, 'population': 1}\n",
      "Structured Output:\n",
      "{\n",
      "    \"extracted_text\": \"_ Sampling Error\\nA statistical err that\\n\\u2018occurs when the analyst\\nMWe selects a sample that not\\ney) JA representative of the\\nNWA population being studied\\n\\nBinal\\n\",\n",
      "    \"keywords\": {\n",
      "        \"error\": 1,\n",
      "        \"statistical\": 1,\n",
      "        \"sample\": 1,\n",
      "        \"analyst\": 1,\n",
      "        \"population\": 1\n",
      "    }\n",
      "}\n"
     ]
    }
   ],
   "source": [
    "import json\n",
    "\n",
    "# Example patterns to extract keywords\n",
    "keywords = [\"error\", \"statistical\", \"sample\", \"analyst\", \"population\"]\n",
    "\n",
    "# Perform OCR with error handling\n",
    "try:\n",
    "    extracted_text = pytesseract.image_to_string(gray_image)\n",
    "    if extracted_text.strip() == \"\":\n",
    "        raise Exception(\"OCR did not extract any meaningful text.\")\n",
    "    else:\n",
    "        print(\"Extracted Text:\")\n",
    "        print(extracted_text)\n",
    "        \n",
    "        # Extract keywords\n",
    "        extracted_keywords = {keyword: extracted_text.lower().count(keyword) for keyword in keywords}\n",
    "        print(\"Extracted Keywords:\")\n",
    "        print(extracted_keywords)\n",
    "        \n",
    "        # Create a structured output\n",
    "        structured_data = {\n",
    "            \"extracted_text\": extracted_text,\n",
    "            \"keywords\": extracted_keywords\n",
    "        }\n",
    "        \n",
    "        # Convert to JSON\n",
    "        structured_json = json.dumps(structured_data, indent=4)\n",
    "        print(\"Structured Output:\")\n",
    "        print(structured_json)\n",
    "\n",
    "except Exception as e:\n",
    "    print(f\"OCR Error: {str(e)}\")\n"
   ]
  },
  {
   "cell_type": "code",
   "execution_count": 21,
   "id": "4e4aa9d0-7b54-4b2b-8edd-b01ad8b18056",
   "metadata": {},
   "outputs": [
    {
     "name": "stdout",
     "output_type": "stream",
     "text": [
      "Structured data saved to extracted_data.json\n"
     ]
    }
   ],
   "source": [
    "# Define the file name\n",
    "output_file = \"extracted_data.json\"\n",
    "\n",
    "# Save the structured output to a JSON file\n",
    "with open(output_file, \"w\") as file:\n",
    "    file.write(structured_json)\n",
    "\n",
    "print(f\"Structured data saved to {output_file}\")\n"
   ]
  },
  {
   "cell_type": "code",
   "execution_count": null,
   "id": "7cd916da-41e2-4581-b1f9-dc7c8f08485c",
   "metadata": {},
   "outputs": [],
   "source": []
  }
 ],
 "metadata": {
  "kernelspec": {
   "display_name": "Python 3 (ipykernel)",
   "language": "python",
   "name": "python3"
  },
  "language_info": {
   "codemirror_mode": {
    "name": "ipython",
    "version": 3
   },
   "file_extension": ".py",
   "mimetype": "text/x-python",
   "name": "python",
   "nbconvert_exporter": "python",
   "pygments_lexer": "ipython3",
   "version": "3.12.0"
  }
 },
 "nbformat": 4,
 "nbformat_minor": 5
}

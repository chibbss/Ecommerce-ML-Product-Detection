{
 "cells": [
  {
   "cell_type": "code",
   "execution_count": 2,
   "id": "6cd3dd56-8534-49fd-afe1-be854de090ce",
   "metadata": {},
   "outputs": [
    {
     "name": "stdout",
     "output_type": "stream",
     "text": [
      "Collecting pinecone-client\n",
      "  Downloading pinecone_client-4.1.2-py3-none-any.whl.metadata (16 kB)\n",
      "Requirement already satisfied: certifi>=2019.11.17 in /Library/Frameworks/Python.framework/Versions/3.12/lib/python3.12/site-packages (from pinecone-client) (2023.7.22)\n",
      "Collecting pinecone-plugin-interface<0.0.8,>=0.0.7 (from pinecone-client)\n",
      "  Downloading pinecone_plugin_interface-0.0.7-py3-none-any.whl.metadata (1.2 kB)\n",
      "Requirement already satisfied: tqdm>=4.64.1 in /Library/Frameworks/Python.framework/Versions/3.12/lib/python3.12/site-packages (from pinecone-client) (4.66.2)\n",
      "Requirement already satisfied: typing-extensions>=3.7.4 in /Library/Frameworks/Python.framework/Versions/3.12/lib/python3.12/site-packages (from pinecone-client) (4.11.0)\n",
      "Requirement already satisfied: urllib3>=1.26.5 in /Library/Frameworks/Python.framework/Versions/3.12/lib/python3.12/site-packages (from pinecone-client) (2.2.1)\n",
      "Downloading pinecone_client-4.1.2-py3-none-any.whl (216 kB)\n",
      "\u001b[2K   \u001b[38;2;114;156;31m━━━━━━━━━━━━━━━━━━━━━━━━━━━━━━━━━━━━━━━\u001b[0m \u001b[32m216.4/216.4 kB\u001b[0m \u001b[31m300.7 kB/s\u001b[0m eta \u001b[36m0:00:00\u001b[0m kB/s\u001b[0m eta \u001b[36m0:00:01\u001b[0m:01\u001b[0m\n",
      "\u001b[?25hDownloading pinecone_plugin_interface-0.0.7-py3-none-any.whl (6.2 kB)\n",
      "Installing collected packages: pinecone-plugin-interface, pinecone-client\n",
      "Successfully installed pinecone-client-4.1.2 pinecone-plugin-interface-0.0.7\n",
      "\n",
      "\u001b[1m[\u001b[0m\u001b[34;49mnotice\u001b[0m\u001b[1;39;49m]\u001b[0m\u001b[39;49m A new release of pip is available: \u001b[0m\u001b[31;49m24.0\u001b[0m\u001b[39;49m -> \u001b[0m\u001b[32;49m24.1.1\u001b[0m\n",
      "\u001b[1m[\u001b[0m\u001b[34;49mnotice\u001b[0m\u001b[1;39;49m]\u001b[0m\u001b[39;49m To update, run: \u001b[0m\u001b[32;49mpip install --upgrade pip\u001b[0m\n",
      "Note: you may need to restart the kernel to use updated packages.\n"
     ]
    }
   ],
   "source": [
    "pip install pinecone-client\n"
   ]
  },
  {
   "cell_type": "code",
   "execution_count": 9,
   "id": "8c28d728-293c-4383-bd98-9c09f74449b8",
   "metadata": {},
   "outputs": [],
   "source": [
    "import pandas as pd\n",
    "from sklearn.feature_extraction.text import TfidfVectorizer\n",
    "import numpy as np"
   ]
  },
  {
   "cell_type": "code",
   "execution_count": 3,
   "id": "4a00d445-3ed3-4bcf-9f34-b7eab4facdd1",
   "metadata": {},
   "outputs": [],
   "source": [
    "# necessary imports\n",
    "\n",
    "from pinecone import Pinecone, ServerlessSpec\n",
    "\n",
    "pc = Pinecone(api_key=\"2d7cf166-3b12-4801-8728-f46884148e74\")"
   ]
  },
  {
   "cell_type": "code",
   "execution_count": 5,
   "id": "44aca702-53b2-4744-912e-0d56730184da",
   "metadata": {},
   "outputs": [
    {
     "name": "stdout",
     "output_type": "stream",
     "text": [
      "Pinecone serverless vector database setup complete.\n"
     ]
    }
   ],
   "source": [
    "# Define vector dimension and other parameters\n",
    "VECTOR_DIMENSION = 128  \n",
    "METRIC = \"euclidean\" \n",
    "INDEX_NAME = \"product-recommendations\"\n",
    "\n",
    "# Create a new serverless index (database)\n",
    "if INDEX_NAME not in pc.list_indexes():\n",
    "    pc.create_index(\n",
    "        name=INDEX_NAME,\n",
    "        dimension=VECTOR_DIMENSION,\n",
    "        metric=METRIC,\n",
    "        spec=ServerlessSpec(\n",
    "            cloud=\"aws\",\n",
    "            region=\"us-east-1\"\n",
    "        )\n",
    "    )\n",
    "\n",
    "# Connect to the index\n",
    "index = pc.Index(INDEX_NAME)\n",
    "\n",
    "print(\"Pinecone serverless vector database setup complete.\")"
   ]
  },
  {
   "cell_type": "code",
   "execution_count": null,
   "id": "55e71027-3c50-45db-b421-1b7b8f81bb8b",
   "metadata": {},
   "outputs": [],
   "source": [
    "# time to store product vectors\n",
    "# Load cleaned dataset\n",
    "df = pd.read_csv(\"cleaned_dataset.csv\")\n",
    "\n",
    "# Generate feature vectors using TF-IDF\n",
    "vectorizer = TfidfVectorizer(max_features=128)\n",
    "product_vectors = vectorizer.fit_transform(df['Description']).toarray()\n",
    "\n",
    "# Check for zero vectors and filter them out\n",
    "non_zero_vectors = [(str(i), vector) for i, vector in enumerate(product_vectors) if np.any(vector != 0)]\n",
    "\n",
    "# Store non-zero vectors in Pinecone\n",
    "index = pc.Index(\"product-recommendations\")\n",
    "index.upsert(non_zero_vectors)\n",
    "\n",
    "print(\"Non-zero product vectors stored in Pinecone index.\")"
   ]
  },
  {
   "cell_type": "code",
   "execution_count": 8,
   "id": "0193bedf-5051-40ac-8e3c-f5fe9d1ae986",
   "metadata": {},
   "outputs": [
    {
     "name": "stdout",
     "output_type": "stream",
     "text": [
      "Cosine Similarity: 0.9746318461970762\n",
      "Dot Product: 32\n",
      "Euclidean Distance: 5.196152422706632\n"
     ]
    }
   ],
   "source": [
    "# necessary import\n",
    "import numpy as np\n",
    "\n",
    "# Function to compute cosine similarity\n",
    "def cosine_similarity(vec1, vec2):\n",
    "    dot_product = np.dot(vec1, vec2)\n",
    "    norm_vec1 = np.linalg.norm(vec1)\n",
    "    norm_vec2 = np.linalg.norm(vec2)\n",
    "    similarity = dot_product / (norm_vec1 * norm_vec2)\n",
    "    return similarity\n",
    "\n",
    "# Function to compute dot product\n",
    "def dot_product(vec1, vec2):\n",
    "    return np.dot(vec1, vec2)\n",
    "\n",
    "# Function to compute Euclidean distance\n",
    "def euclidean_distance(vec1, vec2):\n",
    "    return np.linalg.norm(vec1 - vec2)\n",
    "\n",
    "# Example vectors (replace with your actual dataset vectors)\n",
    "vector1 = np.array([1, 2, 3])\n",
    "vector2 = np.array([4, 5, 6])\n",
    "\n",
    "# Compute similarities\n",
    "cosine_sim = cosine_similarity(vector1, vector2)\n",
    "dot_prod = dot_product(vector1, vector2)\n",
    "euclidean_dist = euclidean_distance(vector1, vector2)\n",
    "\n",
    "# Print results\n",
    "print(f\"Cosine Similarity: {cosine_sim}\")\n",
    "print(f\"Dot Product: {dot_prod}\")\n",
    "print(f\"Euclidean Distance: {euclidean_dist}\")\n"
   ]
  },
  {
   "cell_type": "code",
   "execution_count": 18,
   "id": "cc4f441d-91c8-40e0-98bd-1a3f4fa672a2",
   "metadata": {},
   "outputs": [
    {
     "name": "stdout",
     "output_type": "stream",
     "text": [
      " * Serving Flask app '__main__'\n",
      " * Debug mode: off\n"
     ]
    },
    {
     "name": "stderr",
     "output_type": "stream",
     "text": [
      "\u001b[31m\u001b[1mWARNING: This is a development server. Do not use it in a production deployment. Use a production WSGI server instead.\u001b[0m\n",
      " * Running on http://127.0.0.1:5001\n",
      "\u001b[33mPress CTRL+C to quit\u001b[0m\n",
      "127.0.0.1 - - [04/Jul/2024 17:29:35] \"\u001b[33mGET / HTTP/1.1\u001b[0m\" 404 -\n",
      "127.0.0.1 - - [04/Jul/2024 17:29:35] \"\u001b[33mGET /apple-touch-icon-precomposed.png HTTP/1.1\u001b[0m\" 404 -\n",
      "127.0.0.1 - - [04/Jul/2024 17:29:35] \"\u001b[33mGET /apple-touch-icon.png HTTP/1.1\u001b[0m\" 404 -\n",
      "127.0.0.1 - - [04/Jul/2024 17:29:35] \"\u001b[33mGET /favicon.ico HTTP/1.1\u001b[0m\" 404 -\n"
     ]
    }
   ],
   "source": [
    "from flask import Flask, request, jsonify\n",
    "from pinecone import Pinecone\n",
    "\n",
    "# Initialize Flask app\n",
    "app = Flask(__name__)\n",
    "\n",
    "# Initialize Pinecone and connect to the existing index\n",
    "pc = Pinecone(api_key=\"2d7cf166-3b12-4801-8728-f46884148e74\")\n",
    "INDEX_NAME = \"product-recommendations\"\n",
    "index = pc.Index(INDEX_NAME)\n",
    "\n",
    "def get_recommendations(query):\n",
    "    # Query the Pinecone index for similar vectors\n",
    "    results = index.query(queries=[query], top_k=5)\n",
    "    \n",
    "    # Example: Retrieve and format recommended product descriptions\n",
    "    recommended_products = [res['id'] for res in results['matches'][0]]\n",
    "    return recommended_products\n",
    "\n",
    "@app.route('/recommend', methods=['POST'])\n",
    "def recommend():\n",
    "    # Get the query from the request\n",
    "    query = request.json.get('query')\n",
    "    \n",
    "    # Check if the query is provided\n",
    "    if not query:\n",
    "        return jsonify({'error': 'Query is required'}), 400\n",
    "    \n",
    "    # Get recommendations based on the query\n",
    "    recommendations = get_recommendations(query)\n",
    "    \n",
    "    # Return the recommendations as a JSON response\n",
    "    return jsonify({'recommendations': recommendations})\n",
    "\n",
    "if __name__ == '__main__':\n",
    "    app.run(port=5001)  # Specify a different port here\n"
   ]
  },
  {
   "cell_type": "code",
   "execution_count": null,
   "id": "10d503e9-0fe0-4c68-bdb9-d8e860a2fcf5",
   "metadata": {},
   "outputs": [],
   "source": []
  }
 ],
 "metadata": {
  "kernelspec": {
   "display_name": "Python 3 (ipykernel)",
   "language": "python",
   "name": "python3"
  },
  "language_info": {
   "codemirror_mode": {
    "name": "ipython",
    "version": 3
   },
   "file_extension": ".py",
   "mimetype": "text/x-python",
   "name": "python",
   "nbconvert_exporter": "python",
   "pygments_lexer": "ipython3",
   "version": "3.12.0"
  }
 },
 "nbformat": 4,
 "nbformat_minor": 5
}

{
 "cells": [
  {
   "cell_type": "code",
   "execution_count": 1,
   "id": "96134936-a3d2-4e79-9309-dc1376b77770",
   "metadata": {},
   "outputs": [
    {
     "name": "stdout",
     "output_type": "stream",
     "text": [
      "Requirement already satisfied: requests in /Library/Frameworks/Python.framework/Versions/3.12/lib/python3.12/site-packages (2.31.0)\n",
      "Requirement already satisfied: beautifulsoup4 in /Library/Frameworks/Python.framework/Versions/3.12/lib/python3.12/site-packages (4.12.3)\n",
      "Requirement already satisfied: charset-normalizer<4,>=2 in /Library/Frameworks/Python.framework/Versions/3.12/lib/python3.12/site-packages (from requests) (3.3.2)\n",
      "Requirement already satisfied: idna<4,>=2.5 in /Library/Frameworks/Python.framework/Versions/3.12/lib/python3.12/site-packages (from requests) (2.10)\n",
      "Requirement already satisfied: urllib3<3,>=1.21.1 in /Library/Frameworks/Python.framework/Versions/3.12/lib/python3.12/site-packages (from requests) (2.2.1)\n",
      "Requirement already satisfied: certifi>=2017.4.17 in /Library/Frameworks/Python.framework/Versions/3.12/lib/python3.12/site-packages (from requests) (2023.7.22)\n",
      "Requirement already satisfied: soupsieve>1.2 in /Library/Frameworks/Python.framework/Versions/3.12/lib/python3.12/site-packages (from beautifulsoup4) (2.5)\n",
      "\n",
      "\u001b[1m[\u001b[0m\u001b[34;49mnotice\u001b[0m\u001b[1;39;49m]\u001b[0m\u001b[39;49m A new release of pip is available: \u001b[0m\u001b[31;49m24.0\u001b[0m\u001b[39;49m -> \u001b[0m\u001b[32;49m24.1.1\u001b[0m\n",
      "\u001b[1m[\u001b[0m\u001b[34;49mnotice\u001b[0m\u001b[1;39;49m]\u001b[0m\u001b[39;49m To update, run: \u001b[0m\u001b[32;49mpip install --upgrade pip\u001b[0m\n",
      "Note: you may need to restart the kernel to use updated packages.\n"
     ]
    }
   ],
   "source": [
    "pip install requests beautifulsoup4"
   ]
  },
  {
   "cell_type": "code",
   "execution_count": 2,
   "id": "997e3d36-34fb-4f1d-ac47-210932b4c191",
   "metadata": {},
   "outputs": [],
   "source": [
    "# necessary imports\n",
    "import requests\n",
    "from bs4 import BeautifulSoup\n",
    "import pandas as pd"
   ]
  },
  {
   "cell_type": "code",
   "execution_count": 3,
   "id": "9b32e840-9ab1-41bb-87c8-31d583b01d7b",
   "metadata": {},
   "outputs": [
    {
     "name": "stdout",
     "output_type": "stream",
     "text": [
      "\n",
      "    All products | Books to Scrape - Sandbox\n",
      "\n"
     ]
    }
   ],
   "source": [
    "# Define the URL of the e-commerce site (Books to Scrape)\n",
    "url = \"http://books.toscrape.com/\"\n",
    "\n",
    "# Send an HTTP request to the URL\n",
    "response = requests.get(url)\n",
    "\n",
    "# Check if the request was successful\n",
    "if response.status_code == 200:\n",
    "    # Parse the HTML content of the page\n",
    "    soup = BeautifulSoup(response.content, \"html.parser\")\n",
    "    \n",
    "    # Print the title of the page to verify\n",
    "    print(soup.title.string)\n",
    "else:\n",
    "    print(f\"Failed to retrieve the page. Status code: {response.status_code}\")\n"
   ]
  },
  {
   "cell_type": "code",
   "execution_count": 4,
   "id": "91f7c248-abde-4545-9141-ade0918fa091",
   "metadata": {},
   "outputs": [
    {
     "data": {
      "text/html": [
       "<div>\n",
       "<style scoped>\n",
       "    .dataframe tbody tr th:only-of-type {\n",
       "        vertical-align: middle;\n",
       "    }\n",
       "\n",
       "    .dataframe tbody tr th {\n",
       "        vertical-align: top;\n",
       "    }\n",
       "\n",
       "    .dataframe thead th {\n",
       "        text-align: right;\n",
       "    }\n",
       "</style>\n",
       "<table border=\"1\" class=\"dataframe\">\n",
       "  <thead>\n",
       "    <tr style=\"text-align: right;\">\n",
       "      <th></th>\n",
       "      <th>Title</th>\n",
       "      <th>Price</th>\n",
       "      <th>Availability</th>\n",
       "    </tr>\n",
       "  </thead>\n",
       "  <tbody>\n",
       "    <tr>\n",
       "      <th>0</th>\n",
       "      <td>A Light in the Attic</td>\n",
       "      <td>£51.77</td>\n",
       "      <td>In stock</td>\n",
       "    </tr>\n",
       "    <tr>\n",
       "      <th>1</th>\n",
       "      <td>Tipping the Velvet</td>\n",
       "      <td>£53.74</td>\n",
       "      <td>In stock</td>\n",
       "    </tr>\n",
       "    <tr>\n",
       "      <th>2</th>\n",
       "      <td>Soumission</td>\n",
       "      <td>£50.10</td>\n",
       "      <td>In stock</td>\n",
       "    </tr>\n",
       "    <tr>\n",
       "      <th>3</th>\n",
       "      <td>Sharp Objects</td>\n",
       "      <td>£47.82</td>\n",
       "      <td>In stock</td>\n",
       "    </tr>\n",
       "    <tr>\n",
       "      <th>4</th>\n",
       "      <td>Sapiens: A Brief History of Humankind</td>\n",
       "      <td>£54.23</td>\n",
       "      <td>In stock</td>\n",
       "    </tr>\n",
       "  </tbody>\n",
       "</table>\n",
       "</div>"
      ],
      "text/plain": [
       "                                   Title   Price Availability\n",
       "0                   A Light in the Attic  £51.77     In stock\n",
       "1                     Tipping the Velvet  £53.74     In stock\n",
       "2                             Soumission  £50.10     In stock\n",
       "3                          Sharp Objects  £47.82     In stock\n",
       "4  Sapiens: A Brief History of Humankind  £54.23     In stock"
      ]
     },
     "execution_count": 4,
     "metadata": {},
     "output_type": "execute_result"
    }
   ],
   "source": [
    "# Extract product data\n",
    "products = soup.find_all(\"article\", class_=\"product_pod\")\n",
    "\n",
    "# Lists to store extracted data\n",
    "book_titles = []\n",
    "book_prices = []\n",
    "book_availability = []\n",
    "\n",
    "# Loop through each product and extract the relevant information\n",
    "for product in products:\n",
    "    title = product.h3.a[\"title\"]\n",
    "    price = product.find(\"p\", class_=\"price_color\").text.strip()\n",
    "    availability = product.find(\"p\", class_=\"instock availability\").text.strip()\n",
    "    \n",
    "    # Append data to lists\n",
    "    book_titles.append(title)\n",
    "    book_prices.append(price)\n",
    "    book_availability.append(availability)\n",
    "\n",
    "# Create a DataFrame to store the extracted data\n",
    "data = {\n",
    "    \"Title\": book_titles,\n",
    "    \"Price\": book_prices,\n",
    "    \"Availability\": book_availability\n",
    "}\n",
    "df = pd.DataFrame(data)\n",
    "\n",
    "# Display the DataFrame\n",
    "df.head()\n"
   ]
  },
  {
   "cell_type": "code",
   "execution_count": 5,
   "id": "8d016a53-3a8c-4a9d-8336-de832491852a",
   "metadata": {},
   "outputs": [
    {
     "name": "stdout",
     "output_type": "stream",
     "text": [
      "Scraped data saved to scraped_books.csv\n"
     ]
    }
   ],
   "source": [
    "# Define the output file name\n",
    "output_file = \"scraped_books.csv\"\n",
    "\n",
    "# Save the DataFrame to a CSV file\n",
    "df.to_csv(output_file, index=False)\n",
    "\n",
    "print(f\"Scraped data saved to {output_file}\")\n"
   ]
  },
  {
   "cell_type": "code",
   "execution_count": 2,
   "id": "29e09ca4-f796-445c-b5bc-cb3fcc2c559c",
   "metadata": {},
   "outputs": [
    {
     "name": "stdout",
     "output_type": "stream",
     "text": [
      "Pinecone serverless vector database setup complete.\n",
      " * Serving Flask app '__main__'\n",
      " * Debug mode: off\n"
     ]
    },
    {
     "name": "stderr",
     "output_type": "stream",
     "text": [
      "\u001b[31m\u001b[1mWARNING: This is a development server. Do not use it in a production deployment. Use a production WSGI server instead.\u001b[0m\n",
      " * Running on http://127.0.0.1:5001\n",
      "\u001b[33mPress CTRL+C to quit\u001b[0m\n",
      "127.0.0.1 - - [05/Jul/2024 07:48:24] \"\u001b[33mGET / HTTP/1.1\u001b[0m\" 404 -\n"
     ]
    }
   ],
   "source": [
    "# Necessary Imports\n",
    "from flask import Flask, request, jsonify\n",
    "from pinecone import Pinecone\n",
    "from PIL import Image\n",
    "import pytesseract\n",
    "import io\n",
    "\n",
    "# Initialize Pinecone\n",
    "pc = Pinecone(api_key=\"2d7cf166-3b12-4801-8728-f46884148e74\")\n",
    "INDEX_NAME = \"product-recommendations\"\n",
    "index = pc.Index(INDEX_NAME)\n",
    "\n",
    "print(\"Pinecone serverless vector database setup complete.\")\n",
    "\n",
    "# Initialize Flask App and Define Recommendation Function\n",
    "app = Flask(__name__)\n",
    "\n",
    "def get_recommendations(query):\n",
    "    results = index.query(queries=[query], top_k=5)\n",
    "    recommended_products = [res['id'] for res in results['matches'][0]]\n",
    "    return recommended_products\n",
    "\n",
    "# Endpoint 1 for Text-Based Queries\n",
    "@app.route('/recommend', methods=['POST'])\n",
    "def recommend():\n",
    "    query = request.json.get('query')\n",
    "    if not query:\n",
    "        return jsonify({'error': 'Query is required'}), 400\n",
    "    recommendations = get_recommendations(query)\n",
    "    return jsonify({'recommendations': recommendations})\n",
    "\n",
    "# Endpoint 2 for OCR-Based Queries\n",
    "@app.route('/ocr-recommend', methods=['POST'])\n",
    "def ocr_recommend():\n",
    "    if 'image' not in request.files:\n",
    "        return jsonify({'error': 'No image provided'}), 400\n",
    "    image_file = request.files['image']\n",
    "    image = Image.open(io.BytesIO(image_file.read()))\n",
    "    gray_image = image.convert('L')\n",
    "    extracted_text = pytesseract.image_to_string(gray_image)\n",
    "    if extracted_text.strip() == \"\":\n",
    "        return jsonify({'error': 'No meaningful text extracted from the image'}), 400\n",
    "    recommendations = get_recommendations(extracted_text)\n",
    "    return jsonify({\n",
    "        'extracted_text': extracted_text,\n",
    "        'recommendations': recommendations\n",
    "    })\n",
    "\n",
    "# Cell 6: Run the Flask App\n",
    "if __name__ == '__main__':\n",
    "    app.run(port=5001)\n"
   ]
  },
  {
   "cell_type": "code",
   "execution_count": null,
   "id": "46eb8a5d-1363-4b57-a28d-002104b013e6",
   "metadata": {},
   "outputs": [],
   "source": []
  }
 ],
 "metadata": {
  "kernelspec": {
   "display_name": "Python 3",
   "language": "python",
   "name": "python3"
  },
  "language_info": {
   "codemirror_mode": {
    "name": "ipython",
    "version": 3
   },
   "file_extension": ".py",
   "mimetype": "text/x-python",
   "name": "python",
   "nbconvert_exporter": "python",
   "pygments_lexer": "ipython3",
   "version": "3.12.0 (v3.12.0:0fb18b02c8, Oct  2 2023, 09:45:56) [Clang 13.0.0 (clang-1300.0.29.30)]"
  },
  "vscode": {
   "interpreter": {
    "hash": "aee8b7b246df8f9039afb4144a1f6fd8d2ca17a180786b69acc140d282b71a49"
   }
  }
 },
 "nbformat": 4,
 "nbformat_minor": 5
}
